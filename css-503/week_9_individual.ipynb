{
 "cells": [
  {
   "cell_type": "code",
   "execution_count": 47,
   "id": "1bd01c7e-c4bb-4e57-90c7-b36c10a4648a",
   "metadata": {},
   "outputs": [
    {
     "name": "stdout",
     "output_type": "stream",
     "text": [
      "Chevrolet Camaro   2018 г.\n",
      "30 000 000\n",
      "    ₸\n",
      "Город - Астана\n",
      "Поколение - 2018 - н.в. 6 поколение рестайлинг\n",
      "Кузов - купе\n",
      "Объем двигателя, л - 6.2 (бензин)\n",
      "Пробег - 17 000 км\n",
      "Коробка передач - автомат\n",
      "Привод - задний привод\n",
      "Руль - слева\n",
      "Цвет - черный металлик\n",
      "Растаможен в Казахстане - Да\n",
      "VIN - 1G1F91R7*K0****92\n",
      "\n",
      "литые диски, тонировка, люк, спойлер, обвес, багажник, ксенон, дневные ходовые огни, обогрев зеркал, кожа, аудиосистема, bluetooth, USB, ABS, зимний режим, спортивный режим, автозапуск, бесключевой доступ, полный электропакет, кондиционер, климат-контроль, круиз-контроль, бортовой компьютер, навигационная система, мультируль, подогрев сидений, вентиляция сидений, память сидений, парктроники, камера заднего вида, датчик света, датчик дождя, датчик давления в шинах, налог уплачен, техосмотр пройден, вложений не требует\n",
      "Продаю еще 7 дней, после чего машина будет закрыта в паркинге, по всем вопросам звонить или писать в цене договоримся с покупателем\n",
      "Самый узнаваемый автомобиль, который вызовет бурю эмоций, как у детей, так и у взрослых\n",
      "Camaro SuperSport, с обновленным движком LT последнего поколения, миллионник, надёжный и приспособленный к городским поездкам и гоночным трекам\n",
      "В городском режиме средний расход 8-12 литров в зависимости от езды\n",
      "2019 модельный ряд, новое поколение\n",
      "В комплекте премиальный спортивные тормоза brembo и комплектом шин Мишлен Pilot sport S4\n",
      "Разгон до 100км/ч — 3.5с\n",
      "Имеется проекция на лобовое стекло, счётчик ускорение силы G\n",
      "Таймер, полная навигация\n",
      "AppleCar play\n",
      "И полная комплектация SS\n",
      "Машина собиралась на заказ с завода и год ездила в Южной Корее, один водитель\n",
      "Машина в жёлтой бронеплёнке, не бита, не крашена\n",
      "Расходники менялись каждый сезон только оригинальными маслами, зимой находилась в крытом паркинге\n",
      "\n",
      "В цене с реальным покупателем и ценителем машины договоримся\n",
      "По вопросам’\n"
     ]
    }
   ],
   "source": [
    "import pandas as pd\n",
    "import numpy as np\n",
    "import matplotlib.pyplot as plt\n",
    "import seaborn as sns\n",
    "%matplotlib inline\n",
    "\n",
    "from urllib.request import urlopen\n",
    "from bs4 import BeautifulSoup\n",
    "\n",
    "url = \"https://kolesa.kz/a/show/143320891\"\n",
    "html = urlopen(url)\n",
    "\n",
    "soup = BeautifulSoup(html, 'lxml')\n",
    "\n",
    "offer_title = soup.find('h1', {'class': 'offer__title'})\n",
    "offer_price = soup.find('div', {'class': 'offer__price'})\n",
    "parameters_titles = soup.findAll('dt', {'class': 'value-title'})\n",
    "parameters_values = soup.findAll('dd', {'class': 'value'})\n",
    "offer_description = soup.find('div', {'class': 'offer__description'}).findAll('p')\n",
    "\n",
    "print(offer_title.text.strip())\n",
    "print(offer_price.text.strip())\n",
    "\n",
    "for i in range(len(parameters_titles)):\n",
    "    print(parameters_titles[i].get('title'), '-', parameters_values[i].text.strip())\n",
    "\n",
    "print()\n",
    "for text in offer_description:\n",
    "    print(text.text.strip())"
   ]
  },
  {
   "cell_type": "code",
   "execution_count": null,
   "id": "8bbfd41d-af2a-4eba-8f9a-5a4017e47707",
   "metadata": {},
   "outputs": [],
   "source": []
  }
 ],
 "metadata": {
  "kernelspec": {
   "display_name": "Python 3 (ipykernel)",
   "language": "python",
   "name": "python3"
  },
  "language_info": {
   "codemirror_mode": {
    "name": "ipython",
    "version": 3
   },
   "file_extension": ".py",
   "mimetype": "text/x-python",
   "name": "python",
   "nbconvert_exporter": "python",
   "pygments_lexer": "ipython3",
   "version": "3.10.6"
  }
 },
 "nbformat": 4,
 "nbformat_minor": 5
}
