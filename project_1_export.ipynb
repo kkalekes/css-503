{
 "cells": [
  {
   "cell_type": "code",
   "execution_count": 11,
   "id": "51360d0b-d947-46c6-9779-211e5a51d2c6",
   "metadata": {},
   "outputs": [],
   "source": [
    "import pandas as pd\n",
    "import numpy as np\n",
    "import matplotlib.pyplot as plt\n",
    "import seaborn as sns\n",
    "from binascii import hexlify\n",
    "%matplotlib inline\n",
    "\n",
    "from urllib.request import urlopen\n",
    "from bs4 import BeautifulSoup\n",
    "\n",
    "totalCount = 700\n",
    "baseUrl = 'https://kolesa.kz/cars/?price[from]=300000&sort_by=price-asc'\n",
    "\n",
    "page = 710\n",
    "carsCount = 0\n",
    "data = {'Title': [], 'Price': []}\n",
    "\n",
    "while carsCount < totalCount:\n",
    "    url = f'{baseUrl}&page={page}'\n",
    "    html = urlopen(url)\n",
    "\n",
    "    if html.status != 200:\n",
    "        break\n",
    "\n",
    "    soup = BeautifulSoup(html.read().decode('utf-8', 'ignore'))\n",
    "    cars = soup.findAll('div', {'class': 'a-card'})\n",
    "\n",
    "    for car in cars:\n",
    "        title = car.find('h5', {'class': 'a-card__title'}).find('a', {'class': 'a-card__link'}).text.strip()\n",
    "        price = car.find('span', {'class': 'a-card__price'}).text.strip()\n",
    "\n",
    "        data['Title'].append(title)\n",
    "        data['Price'].append(price)\n",
    "        carsCount = carsCount + 1\n",
    "\n",
    "    page = page + 1\n",
    "\n",
    "df = pd.DataFrame(data)\n",
    "\n",
    "df.to_excel('project_1_data.xlsx', index=False)\n"
   ]
  },
  {
   "cell_type": "code",
   "execution_count": null,
   "id": "e4dab6f9-de51-4e48-80e9-a6034bb63fd4",
   "metadata": {},
   "outputs": [],
   "source": []
  }
 ],
 "metadata": {
  "kernelspec": {
   "display_name": "Python 3 (ipykernel)",
   "language": "python",
   "name": "python3"
  },
  "language_info": {
   "codemirror_mode": {
    "name": "ipython",
    "version": 3
   },
   "file_extension": ".py",
   "mimetype": "text/x-python",
   "name": "python",
   "nbconvert_exporter": "python",
   "pygments_lexer": "ipython3",
   "version": "3.10.6"
  }
 },
 "nbformat": 4,
 "nbformat_minor": 5
}
